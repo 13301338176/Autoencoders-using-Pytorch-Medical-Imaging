{
  "nbformat": 4,
  "nbformat_minor": 0,
  "metadata": {
    "colab": {
      "name": "Autoencoder.ipynb",
      "version": "0.3.2",
      "provenance": [],
      "collapsed_sections": [],
      "include_colab_link": true
    },
    "kernelspec": {
      "name": "python2",
      "display_name": "Python 2"
    },
    "accelerator": "GPU"
  },
  "cells": [
    {
      "cell_type": "markdown",
      "metadata": {
        "id": "view-in-github",
        "colab_type": "text"
      },
      "source": [
        "[View in Colaboratory](https://colab.research.google.com/github/abhigoogol/Autoencoders-using-Pytorch/blob/master/Autoencoder.ipynb)"
      ]
    },
    {
      "metadata": {
        "id": "hNk5SeaDcu7Q",
        "colab_type": "code",
        "colab": {
          "base_uri": "https://localhost:8080/",
          "height": 87
        },
        "outputId": "e9c59efc-6058-4125-ead3-19e61acdedf1"
      },
      "cell_type": "code",
      "source": [
        "from os import path\n",
        "from wheel.pep425tags import get_abbr_impl, get_impl_ver, get_abi_tag\n",
        "platform = '{}{}-{}'.format(get_abbr_impl(), get_impl_ver(), get_abi_tag())\n",
        "\n",
        "accelerator = 'cu80' if path.exists('/opt/bin/nvidia-smi') else 'cpu'\n",
        "\n",
        "!pip install -q http://download.pytorch.org/whl/{accelerator}/torch-0.4.0-{platform}-linux_x86_64.whl torchvision\n",
        "import torch\n",
        "print(torch.__version__)\n",
        "print(\"GPU: \", torch.cuda.is_available())"
      ],
      "execution_count": 1,
      "outputs": [
        {
          "output_type": "stream",
          "text": [
            "tcmalloc: large alloc 1073750016 bytes == 0x563af8076000 @  0x7fc0ac3191c4 0x563a9d4ba0d8 0x563a9d5a3d5d 0x563a9d4cd77a 0x563a9d4d2462 0x563a9d4cab3a 0x563a9d4d282e 0x563a9d4cab3a 0x563a9d4d282e 0x563a9d4cab3a 0x563a9d4d282e 0x563a9d4cab3a 0x563a9d4d2e1f 0x563a9d4cab3a 0x563a9d4d282e 0x563a9d4cab3a 0x563a9d4d282e 0x563a9d4d2462 0x563a9d4d2462 0x563a9d4cab3a 0x563a9d4d2e1f 0x563a9d4d2462 0x563a9d4cab3a 0x563a9d4d2e1f 0x563a9d4cab3a 0x563a9d4d2e1f 0x563a9d4cab3a 0x563a9d4d282e 0x563a9d4cab3a 0x563a9d4fb50f 0x563a9d4f6202\n",
            "0.4.0\n",
            "('GPU: ', True)\n"
          ],
          "name": "stdout"
        }
      ]
    },
    {
      "metadata": {
        "id": "2sWBZGT3c8z2",
        "colab_type": "code",
        "colab": {}
      },
      "cell_type": "code",
      "source": [
        "import torch\n",
        "import torch.nn as nn\n",
        "from torch.autograd import Variable\n",
        "from torch.utils.data import DataLoader\n",
        "import torchvision\n",
        "from torchvision import datasets, transforms\n",
        "\n",
        "import matplotlib.pyplot as plt"
      ],
      "execution_count": 0,
      "outputs": []
    },
    {
      "metadata": {
        "id": "6FaerIzWIySa",
        "colab_type": "code",
        "colab": {
          "base_uri": "https://localhost:8080/",
          "height": 50
        },
        "outputId": "22ecd253-aaf0-4024-ff1b-79ec5f3281fe"
      },
      "cell_type": "code",
      "source": [
        "# Courtesy : https://github.com/GunhoChoi\n",
        "!wget --header=\"Host: raw.githubusercontent.com\" --header=\"User-Agent: Mozilla/5.0 (X11; Linux x86_64) AppleWebKit/537.36 (KHTML, like Gecko) Chrome/69.0.3497.100 Safari/537.36\" --header=\"Accept: text/html,application/xhtml+xml,application/xml;q=0.9,image/webp,image/apng,*/*;q=0.8\" --header=\"Accept-Language: en-US,en;q=0.9\" \"https://raw.githubusercontent.com/GunhoChoi/Kind-PyTorch-Tutorial/master/06_Autoencoder_Model_Save/model/autoencoder.pkl\" -O \"autoencoder.pkl\" -c"
      ],
      "execution_count": 60,
      "outputs": [
        {
          "output_type": "stream",
          "text": [
            "\n",
            "Redirecting output to ‘wget-log’.\n"
          ],
          "name": "stdout"
        }
      ]
    },
    {
      "metadata": {
        "id": "2tmUFujSdLjq",
        "colab_type": "code",
        "colab": {}
      },
      "cell_type": "code",
      "source": [
        "transform = transforms.Compose([transforms.ToTensor(),\n",
        "                                transforms.Normalize((0.5, 0.5, 0.5), (0.5, 0.5, 0.5))])\n",
        "\n",
        "batch_size = 8\n",
        "learning_rate = 0.01"
      ],
      "execution_count": 0,
      "outputs": []
    },
    {
      "metadata": {
        "id": "x5TOS0IGeVGG",
        "colab_type": "code",
        "colab": {
          "base_uri": "https://localhost:8080/",
          "height": 117
        },
        "outputId": "8961d388-6006-4e0c-c8e2-76bd2e61f011"
      },
      "cell_type": "code",
      "source": [
        "traindataset = datasets.MNIST(\"./\", train=True, download=True, transform=transform)\n",
        "testdataset = datasets.MNIST(\"./\", train=False, download=True, transform=transform)"
      ],
      "execution_count": 4,
      "outputs": [
        {
          "output_type": "stream",
          "text": [
            "Downloading http://yann.lecun.com/exdb/mnist/train-images-idx3-ubyte.gz\n",
            "Downloading http://yann.lecun.com/exdb/mnist/train-labels-idx1-ubyte.gz\n",
            "Downloading http://yann.lecun.com/exdb/mnist/t10k-images-idx3-ubyte.gz\n",
            "Downloading http://yann.lecun.com/exdb/mnist/t10k-labels-idx1-ubyte.gz\n",
            "Processing...\n",
            "Done!\n"
          ],
          "name": "stdout"
        }
      ]
    },
    {
      "metadata": {
        "id": "vxBgGA97fPv3",
        "colab_type": "code",
        "colab": {}
      },
      "cell_type": "code",
      "source": [
        "traindataloader = DataLoader(traindataset, shuffle=True, batch_size=batch_size, num_workers=8)"
      ],
      "execution_count": 0,
      "outputs": []
    },
    {
      "metadata": {
        "id": "zevaxdJSgT3m",
        "colab_type": "text"
      },
      "cell_type": "markdown",
      "source": [
        "## Encoder-Decoder"
      ]
    },
    {
      "metadata": {
        "id": "HYKU0OClgYdW",
        "colab_type": "code",
        "colab": {}
      },
      "cell_type": "code",
      "source": [
        "class Encoder(nn.Module):\n",
        "  def __init__(self):\n",
        "    super(Encoder, self).__init__()\n",
        "    self.layer1 = nn.Sequential(nn.Conv2d(1, 16, 3, padding=1),\n",
        "                               nn.ReLU(),\n",
        "                               nn.BatchNorm2d(16),\n",
        "                               nn.Conv2d(16, 32, 3, padding=1),\n",
        "                               nn.ReLU(),\n",
        "                               nn.BatchNorm2d(32),\n",
        "                               nn.Conv2d(32, 64, 3, padding=1),\n",
        "                               nn.ReLU(),\n",
        "                               nn.BatchNorm2d(64),\n",
        "                               nn.MaxPool2d(2, 2))\n",
        "    self.layer2 = nn.Sequential(nn.Conv2d(64, 128, 3, padding=1),\n",
        "                               nn.ReLU(),\n",
        "                               nn.BatchNorm2d(128),\n",
        "                               nn.MaxPool2d(2, 2),\n",
        "                               nn.Conv2d(128, 256, 3, padding=1),\n",
        "                               nn.ReLU())\n",
        "  def forward(self, x):\n",
        "    out = self.layer1(x)\n",
        "    out = self.layer2(out)\n",
        "    out = out.view(batch_size, -1)\n",
        "    return out\n",
        "\n",
        "encoder = Encoder().cuda()"
      ],
      "execution_count": 0,
      "outputs": []
    },
    {
      "metadata": {
        "id": "mrqsmTKYm_0G",
        "colab_type": "code",
        "colab": {}
      },
      "cell_type": "code",
      "source": [
        "class Decoder(nn.Module):\n",
        "  def __init__(self):\n",
        "    super(Decoder, self).__init__()\n",
        "    self.layer1 = nn.Sequential(nn.ConvTranspose2d(256, 128, 3, 2, 1, 1),\n",
        "                                nn.ReLU(),\n",
        "                                nn.BatchNorm2d(128),\n",
        "                                nn.ConvTranspose2d(128, 64, 3, 1, 1),\n",
        "                                nn.ReLU(),\n",
        "                                nn.BatchNorm2d(64))\n",
        "    self.layer2 = nn.Sequential(nn.ConvTranspose2d(64, 16, 3, 1, 1),\n",
        "                                nn.ReLU(),\n",
        "                                nn.BatchNorm2d(16),\n",
        "                                nn.ConvTranspose2d(16, 1, 3, 2, 1, 1),\n",
        "                                nn.ReLU())\n",
        "  def forward(self, x):\n",
        "    out = x.view(batch_size, 256, 7, 7)\n",
        "    out = self.layer1(out)\n",
        "    out = self.layer2(out)\n",
        "    return out\n",
        "\n",
        "decoder = Decoder().cuda()"
      ],
      "execution_count": 0,
      "outputs": []
    },
    {
      "metadata": {
        "id": "LIc6gzZLrLdC",
        "colab_type": "code",
        "colab": {
          "base_uri": "https://localhost:8080/",
          "height": 33
        },
        "outputId": "67ede39a-4032-4aca-dcb4-1b30a53f3551"
      },
      "cell_type": "code",
      "source": [
        "parameters = list(encoder.parameters()) + list(decoder.parameters())\n",
        "len(parameters)"
      ],
      "execution_count": 24,
      "outputs": [
        {
          "output_type": "execute_result",
          "data": {
            "text/plain": [
              "32"
            ]
          },
          "metadata": {
            "tags": []
          },
          "execution_count": 24
        }
      ]
    },
    {
      "metadata": {
        "id": "2gjazxcQrgzI",
        "colab_type": "code",
        "colab": {}
      },
      "cell_type": "code",
      "source": [
        "loss_fn = nn.MSELoss()\n",
        "optimizer = torch.optim.Adam(parameters, lr=learning_rate)"
      ],
      "execution_count": 0,
      "outputs": []
    },
    {
      "metadata": {
        "id": "K3DJiP6Su9V1",
        "colab_type": "code",
        "colab": {
          "base_uri": "https://localhost:8080/",
          "height": 167
        },
        "outputId": "4051abde-d6a4-4220-a10b-2e35e22344aa"
      },
      "cell_type": "code",
      "source": [
        "traindataloader.dataset"
      ],
      "execution_count": 42,
      "outputs": [
        {
          "output_type": "execute_result",
          "data": {
            "text/plain": [
              "Dataset MNIST\n",
              "    Number of datapoints: 60000\n",
              "    Split: train\n",
              "    Root Location: ./\n",
              "    Transforms (if any): Compose(\n",
              "                             ToTensor()\n",
              "                             Normalize(mean=(0.5, 0.5, 0.5), std=(0.5, 0.5, 0.5))\n",
              "                         )\n",
              "    Target Transforms (if any): None"
            ]
          },
          "metadata": {
            "tags": []
          },
          "execution_count": 42
        }
      ]
    },
    {
      "metadata": {
        "id": "kamFXrHwJP3f",
        "colab_type": "code",
        "colab": {}
      },
      "cell_type": "code",
      "source": [
        "try:\n",
        "\tencoder, decoder = torch.load('autoencoder.pkl')\n",
        "\tprint(\"\\n--------Model Loaded--------\\n\")\n",
        "except:\n",
        "  print(\"No file\")\n",
        "  pass"
      ],
      "execution_count": 0,
      "outputs": []
    },
    {
      "metadata": {
        "id": "wxhWild7rms4",
        "colab_type": "code",
        "colab": {
          "base_uri": "https://localhost:8080/",
          "height": 67
        },
        "outputId": "a5e48344-7ecf-4016-ef1d-45a2ba8659ac"
      },
      "cell_type": "code",
      "source": [
        "for i in range(6):\n",
        "  for image, label in traindataloader:\n",
        "    image = Variable(image).cuda()\n",
        "    optimizer.zero_grad()\n",
        "    output = encoder(image)\n",
        "    output = decoder(output)\n",
        "    loss = loss_fn(output, image)\n",
        "    loss.backward()\n",
        "    optimizer.step()\n",
        "  if i % 2 == 0:\n",
        "    torch.save([encoder,decoder],'autoencoder.pkl')\n",
        "    print(loss)"
      ],
      "execution_count": 69,
      "outputs": [
        {
          "output_type": "stream",
          "text": [
            "tensor(0.8272, device='cuda:0')\n",
            "tensor(0.8368, device='cuda:0')\n",
            "tensor(0.8515, device='cuda:0')\n"
          ],
          "name": "stdout"
        }
      ]
    },
    {
      "metadata": {
        "id": "GlSTkp_Js4iE",
        "colab_type": "code",
        "colab": {
          "base_uri": "https://localhost:8080/",
          "height": 718
        },
        "outputId": "896cbcf3-f2ae-4d69-eec3-9c400781434b"
      },
      "cell_type": "code",
      "source": [
        "input_img = image[0].cpu()\n",
        "output_img = output[0].cpu()\n",
        "\n",
        "inp = input_img.data.numpy()\n",
        "out = output_img.data.numpy()\n",
        "\n",
        "plt.title(\"Input\", fontsize=20)\n",
        "plt.imshow(inp[0],cmap='gray')\n",
        "plt.show()\n",
        "\n",
        "plt.title(\"Output\", fontsize=20)\n",
        "plt.imshow(out[0],cmap=\"gray\")\n",
        "plt.show()\n"
      ],
      "execution_count": 74,
      "outputs": [
        {
          "output_type": "display_data",
          "data": {
            "image/png": "[encoded data removed]",
            "text/plain": [
              "<matplotlib.figure.Figure at 0x7fd50944bcd0>"
            ]
          },
          "metadata": {
            "tags": []
          }
        },
        {
          "output_type": "display_data",
          "data": {
            "image/png": "[encoded data removed]",
            "text/plain": [
              "<matplotlib.figure.Figure at 0x7fd509384690>"
            ]
          },
          "metadata": {
            "tags": []
          }
        }
      ]
    },
    {
      "metadata": {
        "id": "CJDbWUDUXG6M",
        "colab_type": "code",
        "colab": {}
      },
      "cell_type": "code",
      "source": [
        ""
      ],
      "execution_count": 0,
      "outputs": []
    }
  ]
}
{
  "nbformat": 4,
  "nbformat_minor": 0,
  "metadata": {
    "colab": {
      "name": "Autoencoder.ipynb",
      "version": "0.3.2",
      "provenance": [],
      "collapsed_sections": [
        "zc-hS4L74FZ8",
        "zevaxdJSgT3m",
        "0Kgm9Yn8gjXW",
        "vcKDDpsB4V1k"
      ],
      "include_colab_link": true
    },
    "kernelspec": {
      "name": "python3",
      "display_name": "Python 3"
    },
    "accelerator": "GPU"
  },
  "cells": [
    {
      "cell_type": "markdown",
      "metadata": {
        "id": "view-in-github",
        "colab_type": "text"
      },
      "source": [
        "[View in Colaboratory](https://colab.research.google.com/github/abhigoogol/Autoencoders-using-Pytorch/blob/master/Autoencoder.ipynb)"
      ]
    },
    {
      "metadata": {
        "id": "hNk5SeaDcu7Q",
        "colab_type": "code",
        "colab": {
          "base_uri": "https://localhost:8080/",
          "height": 87
        },
        "outputId": "b5668070-18ff-4961-e947-fb7b343b957c"
      },
      "cell_type": "code",
      "source": [
        "from os import path\n",
        "from wheel.pep425tags import get_abbr_impl, get_impl_ver, get_abi_tag\n",
        "platform = '{}{}-{}'.format(get_abbr_impl(), get_impl_ver(), get_abi_tag())\n",
        "\n",
        "accelerator = 'cu80' if path.exists('/opt/bin/nvidia-smi') else 'cpu'\n",
        "\n",
        "!pip install -q http://download.pytorch.org/whl/{accelerator}/torch-0.4.0-{platform}-linux_x86_64.whl torchvision\n",
        "import torch\n",
        "print(torch.__version__)\n",
        "print(\"GPU: \", torch.cuda.is_available())"
      ],
      "execution_count": 1,
      "outputs": [
        {
          "output_type": "stream",
          "text": [
            "tcmalloc: large alloc 1073750016 bytes == 0x5b7de000 @  0x7f569ade82a4 0x594e17 0x626104 0x51190a 0x4f5277 0x510c78 0x5119bd 0x4f5277 0x4f3338 0x510fb0 0x5119bd 0x4f5277 0x4f3338 0x510fb0 0x5119bd 0x4f5277 0x4f3338 0x510fb0 0x5119bd 0x4f6070 0x510c78 0x5119bd 0x4f5277 0x4f3338 0x510fb0 0x5119bd 0x4f6070 0x4f3338 0x510fb0 0x5119bd 0x4f6070\n",
            "0.4.0\n",
            "GPU:  True\n"
          ],
          "name": "stdout"
        }
      ]
    },
    {
      "metadata": {
        "id": "2sWBZGT3c8z2",
        "colab_type": "code",
        "colab": {}
      },
      "cell_type": "code",
      "source": [
        "import torch\n",
        "import torch.nn as nn\n",
        "from torch.autograd import Variable\n",
        "from torch.utils.data import DataLoader\n",
        "import torchvision\n",
        "from torchvision import datasets, transforms\n",
        "\n",
        "import matplotlib.pyplot as plt\n",
        "import numpy as np"
      ],
      "execution_count": 0,
      "outputs": []
    },
    {
      "metadata": {
        "id": "6FaerIzWIySa",
        "colab_type": "code",
        "colab": {
          "base_uri": "https://localhost:8080/",
          "height": 133
        },
        "outputId": "41bd5e33-ccbf-48c3-e11d-0a6c9aa86aa9"
      },
      "cell_type": "code",
      "source": [
        "# Courtesy : https://github.com/GunhoChoi\n",
        "!wget --header=\"Host: raw.githubusercontent.com\" --header=\"User-Agent: Mozilla/5.0 (X11; Linux x86_64) AppleWebKit/537.36 (KHTML, like Gecko) Chrome/69.0.3497.100 Safari/537.36\" --header=\"Accept: text/html,application/xhtml+xml,application/xml;q=0.9,image/webp,image/apng,*/*;q=0.8\" --header=\"Accept-Language: en-US,en;q=0.9\" \"https://raw.githubusercontent.com/GunhoChoi/Kind-PyTorch-Tutorial/master/06_Autoencoder_Model_Save/model/autoencoder.pkl\" -O \"autoencoder.pkl\" -c"
      ],
      "execution_count": 3,
      "outputs": [
        {
          "output_type": "stream",
          "text": [
            "--2018-10-11 19:39:12--  https://raw.githubusercontent.com/GunhoChoi/Kind-PyTorch-Tutorial/master/06_Autoencoder_Model_Save/model/autoencoder.pkl\n",
            "Resolving raw.githubusercontent.com (raw.githubusercontent.com)... 151.101.0.133, 151.101.64.133, 151.101.128.133, ...\n",
            "Connecting to raw.githubusercontent.com (raw.githubusercontent.com)|151.101.0.133|:443... connected.\n",
            "HTTP request sent, awaiting response... 416 Range Not Satisfiable\n",
            "\n",
            "    The file is already fully retrieved; nothing to do.\n",
            "\n"
          ],
          "name": "stdout"
        }
      ]
    },
    {
      "metadata": {
        "id": "zc-hS4L74FZ8",
        "colab_type": "text"
      },
      "cell_type": "markdown",
      "source": [
        "# MNIST Dataset"
      ]
    },
    {
      "metadata": {
        "id": "2tmUFujSdLjq",
        "colab_type": "code",
        "colab": {}
      },
      "cell_type": "code",
      "source": [
        "transform = transforms.Compose([transforms.ToTensor(),\n",
        "                                transforms.Normalize((0.5, 0.5, 0.5), (0.5, 0.5, 0.5))])\n",
        "\n",
        "batch_size = 8\n",
        "learning_rate = 0.01"
      ],
      "execution_count": 0,
      "outputs": []
    },
    {
      "metadata": {
        "id": "x5TOS0IGeVGG",
        "colab_type": "code",
        "colab": {}
      },
      "cell_type": "code",
      "source": [
        "traindataset = datasets.MNIST(\"./\", train=True, download=True, transform=transform)\n",
        "testdataset = datasets.MNIST(\"./\", train=False, download=True, transform=transform)"
      ],
      "execution_count": 0,
      "outputs": []
    },
    {
      "metadata": {
        "id": "vxBgGA97fPv3",
        "colab_type": "code",
        "colab": {}
      },
      "cell_type": "code",
      "source": [
        "traindataloader = DataLoader(traindataset, shuffle=True, batch_size=batch_size, num_workers=8)\n",
        "testdataloader = DataLoader(testdataset, shuffle=False, batch_size=batch_size, num_workers=8)"
      ],
      "execution_count": 0,
      "outputs": []
    },
    {
      "metadata": {
        "id": "zevaxdJSgT3m",
        "colab_type": "text"
      },
      "cell_type": "markdown",
      "source": [
        "## Encoder-Decoder (Big Network)"
      ]
    },
    {
      "metadata": {
        "id": "HYKU0OClgYdW",
        "colab_type": "code",
        "colab": {}
      },
      "cell_type": "code",
      "source": [
        "class Encoder(nn.Module):\n",
        "  def __init__(self):\n",
        "    super(Encoder, self).__init__()\n",
        "    self.layer1 = nn.Sequential(nn.Conv2d(1, 16, 3, padding=1),\n",
        "                               nn.ReLU(),\n",
        "                               nn.BatchNorm2d(16),\n",
        "                               nn.Conv2d(16, 32, 3, padding=1),\n",
        "                               nn.ReLU(),\n",
        "                               nn.BatchNorm2d(32),\n",
        "                               nn.Conv2d(32, 64, 3, padding=1),\n",
        "                               nn.ReLU(),\n",
        "                               nn.BatchNorm2d(64),\n",
        "                               nn.MaxPool2d(2, 2))\n",
        "    self.layer2 = nn.Sequential(nn.Conv2d(64, 128, 3, padding=1),\n",
        "                               nn.ReLU(),\n",
        "                               nn.BatchNorm2d(128),\n",
        "                               nn.MaxPool2d(2, 2),\n",
        "                               nn.Conv2d(128, 256, 3, padding=1),\n",
        "                               nn.ReLU())\n",
        "  def forward(self, x):\n",
        "    out = self.layer1(x)\n",
        "    out = self.layer2(out)\n",
        "    out = out.view(batch_size, -1)\n",
        "    return out\n",
        "\n",
        "encoder = Encoder().cuda()"
      ],
      "execution_count": 0,
      "outputs": []
    },
    {
      "metadata": {
        "id": "mrqsmTKYm_0G",
        "colab_type": "code",
        "colab": {}
      },
      "cell_type": "code",
      "source": [
        "class Decoder(nn.Module):\n",
        "  def __init__(self):\n",
        "    super(Decoder, self).__init__()\n",
        "    self.layer1 = nn.Sequential(nn.ConvTranspose2d(256, 128, 3, 2, 1, 1),\n",
        "                                nn.ReLU(),\n",
        "                                nn.BatchNorm2d(128),\n",
        "                                nn.ConvTranspose2d(128, 64, 3, 1, 1),\n",
        "                                nn.ReLU(),\n",
        "                                nn.BatchNorm2d(64))\n",
        "    self.layer2 = nn.Sequential(nn.ConvTranspose2d(64, 16, 3, 1, 1),\n",
        "                                nn.ReLU(),\n",
        "                                nn.BatchNorm2d(16),\n",
        "                                nn.ConvTranspose2d(16, 1, 3, 2, 1, 1),\n",
        "                                nn.ReLU())\n",
        "  def forward(self, x):\n",
        "    out = x.view(batch_size, 256, 7, 7)\n",
        "    out = self.layer1(out)\n",
        "    out = self.layer2(out)\n",
        "    return out\n",
        "\n",
        "decoder = Decoder().cuda()"
      ],
      "execution_count": 0,
      "outputs": []
    },
    {
      "metadata": {
        "id": "LIc6gzZLrLdC",
        "colab_type": "code",
        "colab": {}
      },
      "cell_type": "code",
      "source": [
        "parameters = list(encoder.parameters()) + list(decoder.parameters())\n",
        "len(parameters)"
      ],
      "execution_count": 0,
      "outputs": []
    },
    {
      "metadata": {
        "id": "2gjazxcQrgzI",
        "colab_type": "code",
        "colab": {}
      },
      "cell_type": "code",
      "source": [
        "loss_fn = nn.MSELoss()\n",
        "optimizer = torch.optim.Adam(parameters, lr=learning_rate)"
      ],
      "execution_count": 0,
      "outputs": []
    },
    {
      "metadata": {
        "id": "K3DJiP6Su9V1",
        "colab_type": "code",
        "colab": {}
      },
      "cell_type": "code",
      "source": [
        "traindataloader.dataset"
      ],
      "execution_count": 0,
      "outputs": []
    },
    {
      "metadata": {
        "id": "kamFXrHwJP3f",
        "colab_type": "code",
        "colab": {}
      },
      "cell_type": "code",
      "source": [
        "try:\n",
        "\tencoder, decoder = torch.load('autoencoder.pkl')\n",
        "\tprint(\"\\n--------Model Loaded--------\\n\")\n",
        "except:\n",
        "  print(\"No file\")\n",
        "  pass"
      ],
      "execution_count": 0,
      "outputs": []
    },
    {
      "metadata": {
        "id": "wxhWild7rms4",
        "colab_type": "code",
        "colab": {}
      },
      "cell_type": "code",
      "source": [
        "for i in range(6):\n",
        "  for image, label in traindataloader:\n",
        "    image = Variable(image).cuda()\n",
        "    optimizer.zero_grad()\n",
        "    output = encoder(image)\n",
        "    output = decoder(output)\n",
        "    loss = loss_fn(output, image)\n",
        "    loss.backward()\n",
        "    optimizer.step()\n",
        "  if i % 2 == 0:\n",
        "    torch.save([encoder,decoder],'autoencoder.pkl')\n",
        "    print(loss)"
      ],
      "execution_count": 0,
      "outputs": []
    },
    {
      "metadata": {
        "id": "GlSTkp_Js4iE",
        "colab_type": "code",
        "colab": {}
      },
      "cell_type": "code",
      "source": [
        "input_img = image[0].cpu()\n",
        "output_img = output[0].cpu()\n",
        "\n",
        "inp = input_img.data.numpy()\n",
        "out = output_img.data.numpy()\n",
        "\n",
        "plt.title(\"Input\", fontsize=20)\n",
        "plt.imshow(inp[0],cmap='gray')\n",
        "plt.show()\n",
        "\n",
        "plt.title(\"Output\", fontsize=20)\n",
        "plt.imshow(out[0],cmap=\"gray\")\n",
        "plt.show()\n"
      ],
      "execution_count": 0,
      "outputs": []
    },
    {
      "metadata": {
        "id": "CJDbWUDUXG6M",
        "colab_type": "code",
        "colab": {}
      },
      "cell_type": "code",
      "source": [
        ""
      ],
      "execution_count": 0,
      "outputs": []
    },
    {
      "metadata": {
        "colab_type": "text",
        "id": "0Kgm9Yn8gjXW"
      },
      "cell_type": "markdown",
      "source": [
        "## Encoder-Decoder (Small Network)"
      ]
    },
    {
      "metadata": {
        "colab_type": "code",
        "colab": {},
        "id": "xwO1UJuygjXZ"
      },
      "cell_type": "code",
      "source": [
        "class Encoder(nn.Module):\n",
        "  def __init__(self):\n",
        "    super(Encoder, self).__init__()\n",
        "    self.layer1 = nn.Sequential(nn.Conv2d(1, 64, 3, padding=1),\n",
        "                               nn.ReLU(),\n",
        "                               nn.BatchNorm2d(64),\n",
        "                               nn.MaxPool2d(2, 2))\n",
        "    self.layer2 = nn.Sequential(nn.Conv2d(64, 128, 3, padding=1),\n",
        "                               nn.ReLU(),\n",
        "                               nn.BatchNorm2d(128),\n",
        "                               nn.MaxPool2d(2, 2),\n",
        "                               nn.Conv2d(128, 256, 3, padding=1),\n",
        "                               nn.ReLU())\n",
        "  def forward(self, x):\n",
        "    out = self.layer1(x)\n",
        "    out = self.layer2(out)\n",
        "    out = out.view(batch_size, -1)\n",
        "    return out\n",
        "\n",
        "encoder = Encoder().cuda()"
      ],
      "execution_count": 0,
      "outputs": []
    },
    {
      "metadata": {
        "colab_type": "code",
        "colab": {},
        "id": "HuTztLe-gjXd"
      },
      "cell_type": "code",
      "source": [
        "class Decoder(nn.Module):\n",
        "  def __init__(self):\n",
        "    super(Decoder, self).__init__()\n",
        "    \n",
        "#     class torch.nn.ConvTranspose2d(in_channels, out_channels, kernel_size, stride=1, padding=0, output_padding=0, groups=1, bias=True, dilation=1)\n",
        "        \n",
        "    self.layer1 = nn.Sequential(nn.ConvTranspose2d(256, 128, 3, 2, 1, 1),\n",
        "                                nn.ReLU(),\n",
        "                                nn.BatchNorm2d(128),\n",
        "                                nn.ConvTranspose2d(128, 64, 3, 1, 1),\n",
        "                                nn.ReLU(),\n",
        "                                nn.BatchNorm2d(64))\n",
        "    self.layer2 = nn.Sequential(nn.ConvTranspose2d(64, 1, 3, 2, 1, 1),\n",
        "                                nn.ReLU())\n",
        "  def forward(self, x):\n",
        "    out = x.view(batch_size, 256, 7, 7)\n",
        "    out = self.layer1(out)\n",
        "    out = self.layer2(out)\n",
        "    return out\n",
        "\n",
        "decoder = Decoder().cuda()"
      ],
      "execution_count": 0,
      "outputs": []
    },
    {
      "metadata": {
        "colab_type": "code",
        "colab": {
          "base_uri": "https://localhost:8080/",
          "height": 33
        },
        "outputId": "a2fdb317-6ca4-4654-dfcc-7404e9f20164",
        "id": "L_9hlypGgjXg"
      },
      "cell_type": "code",
      "source": [
        "parameters = list(encoder.parameters()) + list(decoder.parameters())\n",
        "len(parameters)"
      ],
      "execution_count": 75,
      "outputs": [
        {
          "output_type": "execute_result",
          "data": {
            "text/plain": [
              "20"
            ]
          },
          "metadata": {
            "tags": []
          },
          "execution_count": 75
        }
      ]
    },
    {
      "metadata": {
        "colab_type": "code",
        "colab": {},
        "id": "drB9QwEQgjXj"
      },
      "cell_type": "code",
      "source": [
        "loss_fn = nn.MSELoss()\n",
        "optimizer = torch.optim.Adam(parameters, lr=learning_rate)"
      ],
      "execution_count": 0,
      "outputs": []
    },
    {
      "metadata": {
        "colab_type": "code",
        "colab": {
          "base_uri": "https://localhost:8080/",
          "height": 167
        },
        "outputId": "0c456711-7804-4f37-eecc-b6590ac4b5bb",
        "id": "_ZF0dPY-gjXm"
      },
      "cell_type": "code",
      "source": [
        "traindataloader.dataset"
      ],
      "execution_count": 31,
      "outputs": [
        {
          "output_type": "execute_result",
          "data": {
            "text/plain": [
              "Dataset MNIST\n",
              "    Number of datapoints: 60000\n",
              "    Split: train\n",
              "    Root Location: ./\n",
              "    Transforms (if any): Compose(\n",
              "                             ToTensor()\n",
              "                             Normalize(mean=(0.5, 0.5, 0.5), std=(0.5, 0.5, 0.5))\n",
              "                         )\n",
              "    Target Transforms (if any): None"
            ]
          },
          "metadata": {
            "tags": []
          },
          "execution_count": 31
        }
      ]
    },
    {
      "metadata": {
        "colab_type": "code",
        "colab": {
          "base_uri": "https://localhost:8080/",
          "height": 117
        },
        "outputId": "ea481ed2-4f6e-4f57-bff1-8f5381840d76",
        "id": "Lvvv95F2gjXr"
      },
      "cell_type": "code",
      "source": [
        "for i in range(6):\n",
        "  for image, label in traindataloader:\n",
        "    image = Variable(image).cuda()\n",
        "    optimizer.zero_grad()\n",
        "    output = encoder(image)\n",
        "#     print(output.shape)\n",
        "    output = decoder(output)\n",
        "    loss = loss_fn(output, image)\n",
        "    loss.backward()\n",
        "    optimizer.step()\n",
        "  print(loss)"
      ],
      "execution_count": 78,
      "outputs": [
        {
          "output_type": "stream",
          "text": [
            "tensor(0.8413, device='cuda:0')\n",
            "tensor(0.8578, device='cuda:0')\n",
            "tensor(0.8281, device='cuda:0')\n",
            "tensor(0.8363, device='cuda:0')\n",
            "tensor(0.8387, device='cuda:0')\n",
            "tensor(0.8362, device='cuda:0')\n"
          ],
          "name": "stdout"
        }
      ]
    },
    {
      "metadata": {
        "id": "fy13DPJ51JjS",
        "colab_type": "text"
      },
      "cell_type": "markdown",
      "source": [
        "### Test Model"
      ]
    },
    {
      "metadata": {
        "colab_type": "code",
        "colab": {},
        "id": "ms4VVkJVgjXx"
      },
      "cell_type": "code",
      "source": [
        "def show_images(images, cols = 1, titles = None):\n",
        "    \"\"\"Display a list of images in a single figure with matplotlib.\n",
        "    \n",
        "    Parameters\n",
        "    ---------\n",
        "    images: List of np.arrays compatible with plt.imshow.\n",
        "    \n",
        "    cols (Default = 1): Number of columns in figure (number of rows is \n",
        "                        set to np.ceil(n_images/float(cols))).\n",
        "    \n",
        "    titles: List of titles corresponding to each image. Must have\n",
        "            the same length as titles.\n",
        "    \"\"\"\n",
        "    assert((titles is None)or (len(images) == len(titles)))\n",
        "    n_images = len(images)\n",
        "    if titles is None: titles = ['Image (%d)' % i for i in range(1,n_images + 1)]\n",
        "    fig = plt.figure()\n",
        "    for n, (image, title) in enumerate(zip(images, titles)):\n",
        "        a = fig.add_subplot(cols, np.ceil(n_images/float(cols)), n + 1)\n",
        "        if image.ndim == 2:\n",
        "            plt.gray()\n",
        "        plt.imshow(image)\n",
        "        a.set_title(title)\n",
        "    fig.set_size_inches(np.array(fig.get_size_inches()) * n_images/2)\n",
        "    plt.show()"
      ],
      "execution_count": 0,
      "outputs": []
    },
    {
      "metadata": {
        "id": "V6QZF3n0lUuI",
        "colab_type": "code",
        "colab": {
          "base_uri": "https://localhost:8080/",
          "height": 3467
        },
        "outputId": "95753ae4-f4c0-49b3-887d-4328c22b4109"
      },
      "cell_type": "code",
      "source": [
        "i = 1\n",
        "number_images_show = 10\n",
        "for image, label in testdataloader:\n",
        "  image = Variable(image).cuda()\n",
        "  output = encoder(image)\n",
        "  output = decoder(output)\n",
        "  \n",
        "  input_img = image[0].cpu().detach().numpy()\n",
        "  output_img = output[0].cpu().detach().numpy()\n",
        "  img = np.concatenate((input_img, output_img), axis=0)\n",
        "  show_images(img, cols = 2, titles = [\"Input\", \"Output\"])\n",
        "  \n",
        "  i+=1\n",
        "  if i > number_images_show:\n",
        "    break"
      ],
      "execution_count": 120,
      "outputs": [
        {
          "output_type": "display_data",
          "data": {
            "image/png": "[encoded data removed]",
            "text/plain": [
              "<matplotlib.figure.Figure at 0x7fe349ab9ba8>"
            ]
          },
          "metadata": {
            "tags": []
          }
        },
        {
          "output_type": "display_data",
          "data": {
            "image/png": "[encoded data removed]",
            "text/plain": [
              "<matplotlib.figure.Figure at 0x7fe3496d4c88>"
            ]
          },
          "metadata": {
            "tags": []
          }
        },
        {
          "output_type": "display_data",
          "data": {
            "image/png": "[encoded data removed]",
            "text/plain": [
              "<matplotlib.figure.Figure at 0x7fe3496d4588>"
            ]
          },
          "metadata": {
            "tags": []
          }
        },
        {
          "output_type": "display_data",
          "data": {
            "image/png": "[encoded data removed]",
            "text/plain": [
              "<matplotlib.figure.Figure at 0x7fe3496e3128>"
            ]
          },
          "metadata": {
            "tags": []
          }
        },
        {
          "output_type": "display_data",
          "data": {
            "image/png": "[encoded data removed]",
            "text/plain": [
              "<matplotlib.figure.Figure at 0x7fe3496e34e0>"
            ]
          },
          "metadata": {
            "tags": []
          }
        },
        {
          "output_type": "display_data",
          "data": {
            "image/png": "[encoded data removed]",
            "text/plain": [
              "<matplotlib.figure.Figure at 0x7fe34d68ff28>"
            ]
          },
          "metadata": {
            "tags": []
          }
        },
        {
          "output_type": "display_data",
          "data": {
            "image/png": "[encoded data removed]",
            "text/plain": [
              "<matplotlib.figure.Figure at 0x7fe3496e37f0>"
            ]
          },
          "metadata": {
            "tags": []
          }
        },
        {
          "output_type": "display_data",
          "data": {
            "image/png": "[encoded data removed]",
            "text/plain": [
              "<matplotlib.figure.Figure at 0x7fe34975d320>"
            ]
          },
          "metadata": {
            "tags": []
          }
        },
        {
          "output_type": "display_data",
          "data": {
            "image/png": "[encoded data removed]",
            "text/plain": [
              "<matplotlib.figure.Figure at 0x7fe349a04e48>"
            ]
          },
          "metadata": {
            "tags": []
          }
        },
        {
          "output_type": "display_data",
          "data": {
            "image/png": "[encoded data removed]",
            "text/plain": [
              "<matplotlib.figure.Figure at 0x7fe3496d46a0>"
            ]
          },
          "metadata": {
            "tags": []
          }
        }
      ]
    },
    {
      "metadata": {
        "id": "RWcIbCUf2se1",
        "colab_type": "code",
        "colab": {}
      },
      "cell_type": "code",
      "source": [
        ""
      ],
      "execution_count": 0,
      "outputs": []
    },
    {
      "metadata": {
        "colab_type": "text",
        "id": "j5nKsDdY4V1c"
      },
      "cell_type": "markdown",
      "source": [
        "# CIFAR10 Dataset (Ongoing)"
      ]
    },
    {
      "metadata": {
        "colab_type": "code",
        "colab": {},
        "id": "MrhYD_ya4V1d"
      },
      "cell_type": "code",
      "source": [
        "# transform = transforms.Compose([transforms.ToTensor(),\n",
        "#                                 transforms.Normalize((0.4914, 0.4822, 0.4465), (0.247, 0.243, 0.261))])\n",
        "\n",
        "transform = transforms.Compose(\n",
        "    [transforms.ToTensor(),\n",
        "     transforms.Normalize((0.5, 0.5, 0.5), (0.5, 0.5, 0.5))])\n",
        "\n",
        "batch_size = 8\n",
        "learning_rate = 0.01"
      ],
      "execution_count": 0,
      "outputs": []
    },
    {
      "metadata": {
        "colab_type": "code",
        "colab": {
          "base_uri": "https://localhost:8080/",
          "height": 50
        },
        "id": "pbIwtIDf4V1g",
        "outputId": "d1ee6dff-bcd6-4f0f-eb2a-f4df111ced5e"
      },
      "cell_type": "code",
      "source": [
        "traindataset = datasets.CIFAR10(\"./\", train=True, download=True, transform=transform)\n",
        "testdataset = datasets.CIFAR10(\"./\", train=False, download=True, transform=transform)"
      ],
      "execution_count": 9,
      "outputs": [
        {
          "output_type": "stream",
          "text": [
            "Files already downloaded and verified\n",
            "Files already downloaded and verified\n"
          ],
          "name": "stdout"
        }
      ]
    },
    {
      "metadata": {
        "colab_type": "code",
        "colab": {},
        "id": "-nhh_S1b4V1i"
      },
      "cell_type": "code",
      "source": [
        "traindataloader = DataLoader(traindataset, shuffle=True, batch_size=batch_size, num_workers=8)\n",
        "testdataloader = DataLoader(testdataset, shuffle=False, batch_size=batch_size, num_workers=8)"
      ],
      "execution_count": 0,
      "outputs": []
    },
    {
      "metadata": {
        "id": "tocQWnSf6AwQ",
        "colab_type": "code",
        "colab": {
          "base_uri": "https://localhost:8080/",
          "height": 667
        },
        "outputId": "da29c1a1-f22f-4c28-8eef-e362c9508dc2"
      },
      "cell_type": "code",
      "source": [
        "classes = ('plane', 'car', 'bird', 'cat',\n",
        "           'deer', 'dog', 'frog', 'horse', 'ship', 'truck')\n",
        "dir(traindataloader)"
      ],
      "execution_count": 11,
      "outputs": [
        {
          "output_type": "execute_result",
          "data": {
            "text/plain": [
              "['_DataLoader__initialized',\n",
              " '__class__',\n",
              " '__delattr__',\n",
              " '__dict__',\n",
              " '__dir__',\n",
              " '__doc__',\n",
              " '__eq__',\n",
              " '__format__',\n",
              " '__ge__',\n",
              " '__getattribute__',\n",
              " '__gt__',\n",
              " '__hash__',\n",
              " '__init__',\n",
              " '__init_subclass__',\n",
              " '__iter__',\n",
              " '__le__',\n",
              " '__len__',\n",
              " '__lt__',\n",
              " '__module__',\n",
              " '__ne__',\n",
              " '__new__',\n",
              " '__reduce__',\n",
              " '__reduce_ex__',\n",
              " '__repr__',\n",
              " '__setattr__',\n",
              " '__sizeof__',\n",
              " '__str__',\n",
              " '__subclasshook__',\n",
              " '__weakref__',\n",
              " 'batch_sampler',\n",
              " 'batch_size',\n",
              " 'collate_fn',\n",
              " 'dataset',\n",
              " 'drop_last',\n",
              " 'num_workers',\n",
              " 'pin_memory',\n",
              " 'sampler',\n",
              " 'timeout',\n",
              " 'worker_init_fn']"
            ]
          },
          "metadata": {
            "tags": []
          },
          "execution_count": 11
        }
      ]
    },
    {
      "metadata": {
        "id": "Zq0D-Gjf6L-G",
        "colab_type": "code",
        "colab": {}
      },
      "cell_type": "code",
      "source": [
        "trn = iter(traindataloader)\n",
        "images, labels = next(trn)"
      ],
      "execution_count": 0,
      "outputs": []
    },
    {
      "metadata": {
        "id": "FMJGtu186T3J",
        "colab_type": "code",
        "colab": {
          "base_uri": "https://localhost:8080/",
          "height": 127
        },
        "outputId": "eede29e2-ad89-4d18-ea68-58ec46a92dd4"
      },
      "cell_type": "code",
      "source": [
        "def imshow(img):\n",
        "    img = img / 2 + 0.5     # unnormalize\n",
        "    npimg = img.numpy()\n",
        "    plt.imshow(np.transpose(npimg, (1, 2, 0)))\n",
        "\n",
        "# imshow(images[0])\n",
        "# show images\n",
        "imshow(torchvision.utils.make_grid(images))\n",
        "print(' '.join('%5s' % classes[labels[j]] for j in range(batch_size)))"
      ],
      "execution_count": 13,
      "outputs": [
        {
          "output_type": "stream",
          "text": [
            " bird truck   dog   car  frog  bird   car   dog\n"
          ],
          "name": "stdout"
        },
        {
          "output_type": "display_data",
          "data": {
            "image/png": "[encoded data removed]",
            "text/plain": [
              "<matplotlib.figure.Figure at 0x7fa08c2c9e48>"
            ]
          },
          "metadata": {
            "tags": []
          }
        }
      ]
    },
    {
      "metadata": {
        "colab_type": "text",
        "id": "vcKDDpsB4V1k"
      },
      "cell_type": "markdown",
      "source": [
        "## Encoder-Decoder (Big Network)"
      ]
    },
    {
      "metadata": {
        "colab_type": "code",
        "colab": {},
        "id": "2TuabVEG4V1k"
      },
      "cell_type": "code",
      "source": [
        "class Encoder(nn.Module):\n",
        "  def __init__(self):\n",
        "    super(Encoder, self).__init__()\n",
        "    self.layer1 = nn.Sequential(nn.Conv2d(1, 16, 3, padding=1),\n",
        "                               nn.ReLU(),\n",
        "                               nn.BatchNorm2d(16),\n",
        "                               nn.Conv2d(16, 32, 3, padding=1),\n",
        "                               nn.ReLU(),\n",
        "                               nn.BatchNorm2d(32),\n",
        "                               nn.Conv2d(32, 64, 3, padding=1),\n",
        "                               nn.ReLU(),\n",
        "                               nn.BatchNorm2d(64),\n",
        "                               nn.MaxPool2d(2, 2))\n",
        "    self.layer2 = nn.Sequential(nn.Conv2d(64, 128, 3, padding=1),\n",
        "                               nn.ReLU(),\n",
        "                               nn.BatchNorm2d(128),\n",
        "                               nn.MaxPool2d(2, 2),\n",
        "                               nn.Conv2d(128, 256, 3, padding=1),\n",
        "                               nn.ReLU())\n",
        "  def forward(self, x):\n",
        "    out = self.layer1(x)\n",
        "    out = self.layer2(out)\n",
        "    out = out.view(batch_size, -1)\n",
        "    return out\n",
        "\n",
        "encoder = Encoder().cuda()"
      ],
      "execution_count": 0,
      "outputs": []
    },
    {
      "metadata": {
        "colab_type": "code",
        "colab": {},
        "id": "Nxn-aOqa4V1m"
      },
      "cell_type": "code",
      "source": [
        "class Decoder(nn.Module):\n",
        "  def __init__(self):\n",
        "    super(Decoder, self).__init__()\n",
        "    self.layer1 = nn.Sequential(nn.ConvTranspose2d(256, 128, 3, 2, 1, 1),\n",
        "                                nn.ReLU(),\n",
        "                                nn.BatchNorm2d(128),\n",
        "                                nn.ConvTranspose2d(128, 64, 3, 1, 1),\n",
        "                                nn.ReLU(),\n",
        "                                nn.BatchNorm2d(64))\n",
        "    self.layer2 = nn.Sequential(nn.ConvTranspose2d(64, 16, 3, 1, 1),\n",
        "                                nn.ReLU(),\n",
        "                                nn.BatchNorm2d(16),\n",
        "                                nn.ConvTranspose2d(16, 1, 3, 2, 1, 1),\n",
        "                                nn.ReLU())\n",
        "  def forward(self, x):\n",
        "    out = x.view(batch_size, 256, 7, 7)\n",
        "    out = self.layer1(out)\n",
        "    out = self.layer2(out)\n",
        "    return out\n",
        "\n",
        "decoder = Decoder().cuda()"
      ],
      "execution_count": 0,
      "outputs": []
    },
    {
      "metadata": {
        "colab_type": "code",
        "colab": {
          "base_uri": "https://localhost:8080/",
          "height": 53
        },
        "outputId": "dfea62bb-145c-40f7-c75e-0779cad0370c",
        "id": "YXY_FSJe4V1o"
      },
      "cell_type": "code",
      "source": [
        "parameters = list(encoder.parameters()) + list(decoder.parameters())\n",
        "len(parameters)"
      ],
      "execution_count": 21,
      "outputs": [
        {
          "output_type": "execute_result",
          "data": {
            "text/plain": [
              "32"
            ]
          },
          "metadata": {
            "tags": []
          },
          "execution_count": 21
        }
      ]
    },
    {
      "metadata": {
        "colab_type": "code",
        "colab": {},
        "id": "Vz33sabA4V1r"
      },
      "cell_type": "code",
      "source": [
        "loss_fn = nn.MSELoss()\n",
        "optimizer = torch.optim.Adam(parameters, lr=learning_rate)"
      ],
      "execution_count": 0,
      "outputs": []
    },
    {
      "metadata": {
        "colab_type": "code",
        "colab": {},
        "id": "fPO7wqIb4V1u"
      },
      "cell_type": "code",
      "source": [
        "traindataloader.dataset"
      ],
      "execution_count": 0,
      "outputs": []
    },
    {
      "metadata": {
        "colab_type": "code",
        "colab": {},
        "id": "1UaNSOD14V1v"
      },
      "cell_type": "code",
      "source": [
        "try:\n",
        "\tencoder, decoder = torch.load('autoencoder.pkl')\n",
        "\tprint(\"\\n--------Model Loaded--------\\n\")\n",
        "except:\n",
        "  print(\"No file\")\n",
        "  pass"
      ],
      "execution_count": 0,
      "outputs": []
    },
    {
      "metadata": {
        "colab_type": "code",
        "colab": {},
        "id": "ZODEcjz24V10"
      },
      "cell_type": "code",
      "source": [
        "for i in range(2):\n",
        "  for image, label in traindataloader:\n",
        "    image = Variable(image).cuda()\n",
        "    optimizer.zero_grad()\n",
        "    output = encoder(image)\n",
        "    output = decoder(output)\n",
        "    loss = loss_fn(output, image)\n",
        "    loss.backward()\n",
        "    optimizer.step()\n",
        "  if i % 2 == 0:\n",
        "    torch.save([encoder,decoder],'autoencoder.pkl')\n",
        "    print(loss)"
      ],
      "execution_count": 0,
      "outputs": []
    },
    {
      "metadata": {
        "colab_type": "code",
        "colab": {},
        "id": "Py7vTBF34V14"
      },
      "cell_type": "code",
      "source": [
        "input_img = image[0].cpu()\n",
        "output_img = output[0].cpu()\n",
        "\n",
        "inp = input_img.data.numpy()\n",
        "out = output_img.data.numpy()\n",
        "\n",
        "plt.title(\"Input\", fontsize=20)\n",
        "plt.imshow(inp[0],cmap='gray')\n",
        "plt.show()\n",
        "\n",
        "plt.title(\"Output\", fontsize=20)\n",
        "plt.imshow(out[0],cmap=\"gray\")\n",
        "plt.show()\n"
      ],
      "execution_count": 0,
      "outputs": []
    },
    {
      "metadata": {
        "colab_type": "code",
        "colab": {},
        "id": "qwnYAogy4V15"
      },
      "cell_type": "code",
      "source": [
        ""
      ],
      "execution_count": 0,
      "outputs": []
    },
    {
      "metadata": {
        "colab_type": "text",
        "id": "67IDBeKL4V18"
      },
      "cell_type": "markdown",
      "source": [
        "## Encoder-Decoder (Small Network)"
      ]
    },
    {
      "metadata": {
        "colab_type": "code",
        "colab": {},
        "id": "M7feQSvy4V19"
      },
      "cell_type": "code",
      "source": [
        "class Encoder(nn.Module):\n",
        "  def __init__(self):\n",
        "    super(Encoder, self).__init__()\n",
        "    \n",
        "#     class torch.nn.Conv2d(in_channels, out_channels, kernel_size, stride=1, padding=0, dilation=1, groups=1, bias=True)\n",
        "    \n",
        "    self.layer1 = nn.Sequential(nn.Conv2d(3, 64, 3, padding=1),\n",
        "                               nn.ReLU(),\n",
        "                               nn.BatchNorm2d(64),\n",
        "                               nn.MaxPool2d(2, 2))\n",
        "    self.layer2 = nn.Sequential(nn.Conv2d(64, 128, 3, padding=1),\n",
        "                               nn.ReLU(),\n",
        "                               nn.BatchNorm2d(128),\n",
        "                               nn.MaxPool2d(2, 2),\n",
        "                               nn.Conv2d(128, 256, 3, padding=1),\n",
        "                               nn.ReLU())\n",
        "  def forward(self, x):\n",
        "#     print(x.shape)\n",
        "    out = self.layer1(x)\n",
        "#     print(out.shape)\n",
        "    out = self.layer2(out)\n",
        "#     print(out.shape)\n",
        "    out = out.view(batch_size, -1)\n",
        "#     print(out.shape)\n",
        "    return out\n",
        "\n",
        "encoder = Encoder().cuda()"
      ],
      "execution_count": 0,
      "outputs": []
    },
    {
      "metadata": {
        "colab_type": "code",
        "colab": {},
        "id": "h6tdlb5O4V1-"
      },
      "cell_type": "code",
      "source": [
        "class Decoder(nn.Module):\n",
        "  def __init__(self):\n",
        "    super(Decoder, self).__init__()\n",
        "    \n",
        "#     class torch.nn.ConvTranspose2d(in_channels, out_channels, kernel_size, stride=1, padding=0, output_padding=0, groups=1, bias=True, dilation=1)\n",
        "        \n",
        "    self.layer1 = nn.Sequential(nn.ConvTranspose2d(256, 128, 3, 2, 1, 1),\n",
        "                                nn.ReLU(),\n",
        "                                nn.BatchNorm2d(128),\n",
        "                                nn.ConvTranspose2d(128, 64, 3, 1, 1),\n",
        "                                nn.ReLU(),\n",
        "                                nn.BatchNorm2d(64))\n",
        "    self.layer2 = nn.Sequential(nn.ConvTranspose2d(64, 3, 3, 2, 1, 1),\n",
        "                                nn.ReLU())\n",
        "  def forward(self, x):\n",
        "    out = x.view(batch_size, 256, 8, 8)\n",
        "    out = self.layer1(out)\n",
        "    out = self.layer2(out)\n",
        "    return out\n",
        "\n",
        "decoder = Decoder().cuda()"
      ],
      "execution_count": 0,
      "outputs": []
    },
    {
      "metadata": {
        "colab_type": "code",
        "colab": {
          "base_uri": "https://localhost:8080/",
          "height": 33
        },
        "outputId": "34344fdf-6b66-412d-bbd5-63cf3a93ecf4",
        "id": "dHPcJ9Q14V2A"
      },
      "cell_type": "code",
      "source": [
        "parameters = list(encoder.parameters()) + list(decoder.parameters())\n",
        "len(parameters)"
      ],
      "execution_count": 16,
      "outputs": [
        {
          "output_type": "execute_result",
          "data": {
            "text/plain": [
              "20"
            ]
          },
          "metadata": {
            "tags": []
          },
          "execution_count": 16
        }
      ]
    },
    {
      "metadata": {
        "colab_type": "code",
        "colab": {},
        "id": "tgwV_3th4V2F"
      },
      "cell_type": "code",
      "source": [
        "loss_fn = nn.MSELoss()\n",
        "optimizer = torch.optim.Adam(parameters, lr=learning_rate)"
      ],
      "execution_count": 0,
      "outputs": []
    },
    {
      "metadata": {
        "colab_type": "code",
        "colab": {
          "base_uri": "https://localhost:8080/",
          "height": 167
        },
        "outputId": "8f10af5f-74a1-452f-ec64-8aaed2a150b1",
        "id": "_71g3OdF4V2I"
      },
      "cell_type": "code",
      "source": [
        "traindataloader.dataset"
      ],
      "execution_count": 18,
      "outputs": [
        {
          "output_type": "execute_result",
          "data": {
            "text/plain": [
              "Dataset CIFAR10\n",
              "    Number of datapoints: 50000\n",
              "    Split: train\n",
              "    Root Location: ./\n",
              "    Transforms (if any): Compose(\n",
              "                             ToTensor()\n",
              "                             Normalize(mean=(0.5, 0.5, 0.5), std=(0.5, 0.5, 0.5))\n",
              "                         )\n",
              "    Target Transforms (if any): None"
            ]
          },
          "metadata": {
            "tags": []
          },
          "execution_count": 18
        }
      ]
    },
    {
      "metadata": {
        "colab_type": "code",
        "colab": {
          "base_uri": "https://localhost:8080/",
          "height": 117
        },
        "outputId": "93e4283a-2360-415b-b0c4-8ca410f1c296",
        "id": "_7I8176A4V2L"
      },
      "cell_type": "code",
      "source": [
        "for i in range(6):\n",
        "  for image, label in traindataloader:\n",
        "    image = Variable(image).cuda()\n",
        "    optimizer.zero_grad()\n",
        "    output = encoder(image)\n",
        "#     print(output.shape)\n",
        "    output = decoder(output)\n",
        "    loss = loss_fn(output, image)\n",
        "    loss.backward()\n",
        "    optimizer.step()\n",
        "  print(loss)"
      ],
      "execution_count": 48,
      "outputs": [
        {
          "output_type": "stream",
          "text": [
            "tensor(0.1569, device='cuda:0')\n",
            "tensor(0.1970, device='cuda:0')\n",
            "tensor(0.1240, device='cuda:0')\n",
            "tensor(0.1346, device='cuda:0')\n",
            "tensor(0.1202, device='cuda:0')\n",
            "tensor(0.1289, device='cuda:0')\n"
          ],
          "name": "stdout"
        }
      ]
    },
    {
      "metadata": {
        "colab_type": "text",
        "id": "IPhzbP5X4V2Q"
      },
      "cell_type": "markdown",
      "source": [
        "### Test Model"
      ]
    },
    {
      "metadata": {
        "colab_type": "code",
        "colab": {},
        "id": "Wo0V_8Zz4V2Q"
      },
      "cell_type": "code",
      "source": [
        "def show_images(images, cols = 1, titles = None):\n",
        "    \"\"\"Display a list of images in a single figure with matplotlib.\n",
        "    \n",
        "    Parameters\n",
        "    ---------\n",
        "    images: List of np.arrays compatible with plt.imshow.\n",
        "    \n",
        "    cols (Default = 1): Number of columns in figure (number of rows is \n",
        "                        set to np.ceil(n_images/float(cols))).\n",
        "    \n",
        "    titles: List of titles corresponding to each image. Must have\n",
        "            the same length as titles.\n",
        "    \"\"\"\n",
        "    assert((titles is None)or (len(images) == len(titles)))\n",
        "    n_images = len(images)\n",
        "    if titles is None: titles = ['Image (%d)' % i for i in range(1,n_images + 1)]\n",
        "    fig = plt.figure()\n",
        "    for n, (image, title) in enumerate(zip(images, titles)):\n",
        "        a = fig.add_subplot(cols, np.ceil(n_images/float(cols)), n + 1)\n",
        "        if image.ndim == 2:\n",
        "            plt.gray()\n",
        "        plt.imshow(image)\n",
        "        a.set_title(title)\n",
        "    fig.set_size_inches(np.array(fig.get_size_inches()) * n_images/2)\n",
        "    plt.show()\n",
        "    \n",
        "def imshow(img):\n",
        "    img = img / 2 + 0.5     # unnormalize\n",
        "    npimg = img.numpy()\n",
        "    plt.imshow(np.transpose(npimg, (1, 2, 0)))"
      ],
      "execution_count": 0,
      "outputs": []
    },
    {
      "metadata": {
        "id": "SFxRgeTWGthx",
        "colab_type": "code",
        "colab": {
          "base_uri": "https://localhost:8080/",
          "height": 110
        },
        "outputId": "bdcdc457-639f-4cce-c1ba-38c706dbb4aa"
      },
      "cell_type": "code",
      "source": [
        "tst = iter(testdataloader)\n",
        "images, labels = next(tst)\n",
        "\n",
        "image = Variable(images).cuda()\n",
        "output = encoder(image)\n",
        "output = decoder(output)\n",
        "\n",
        "input_img = image.cpu().detach()\n",
        "output_img = output.cpu().detach()\n",
        "\n",
        "# inp = input_img.data.numpy()\n",
        "# out = output_img.data.numpy()\n",
        "\n",
        "imshow(torchvision.utils.make_grid(input_img))\n",
        "\n",
        "\n",
        "# input_img = image.cpu().detach()\n",
        "# output_img = output.cpu().detach()\n",
        "\n",
        "# def imshow(img):\n",
        "#     img = img / 2 + 0.5     # unnormalize\n",
        "#     npimg = img.numpy()\n",
        "#     plt.imshow(np.transpose(npimg, (1, 2, 0)))\n",
        "    \n",
        "# imshow(torchvision.utils.make_grid(images))\n",
        "\n",
        "# plt.title(\"Input\", fontsize=20)\n",
        "# plt.imshow(inp[0],cmap='jet')\n",
        "# plt.show()\n",
        "\n",
        "# plt.title(\"Output\", fontsize=20)\n",
        "# plt.imshow(out[0],cmap=\"jet\")\n",
        "# plt.show()"
      ],
      "execution_count": 31,
      "outputs": [
        {
          "output_type": "display_data",
          "data": {
            "image/png": "[encoded data removed]",
            "text/plain": [
              "<matplotlib.figure.Figure at 0x7fa0552c1780>"
            ]
          },
          "metadata": {
            "tags": []
          }
        }
      ]
    },
    {
      "metadata": {
        "id": "CtRp6qFfyP4t",
        "colab_type": "code",
        "colab": {
          "base_uri": "https://localhost:8080/",
          "height": 110
        },
        "outputId": "3acf972e-ddff-4737-b487-16a45ce5971e"
      },
      "cell_type": "code",
      "source": [
        "imshow(torchvision.utils.make_grid(output_img))"
      ],
      "execution_count": 34,
      "outputs": [
        {
          "output_type": "display_data",
          "data": {
            "image/png": "[encoded data removed]",
            "text/plain": [
              "<matplotlib.figure.Figure at 0x7fa0551e4be0>"
            ]
          },
          "metadata": {
            "tags": []
          }
        }
      ]
    },
    {
      "metadata": {
        "colab_type": "code",
        "colab": {
          "base_uri": "https://localhost:8080/",
          "height": 268
        },
        "outputId": "cfe7bdc4-e4d5-4264-89b1-9e47481704de",
        "id": "wwFZnfUw4V2R"
      },
      "cell_type": "code",
      "source": [
        "i = 1\n",
        "number_images_show = 1\n",
        "for image, label in testdataloader:\n",
        "  image = Variable(image).cuda()\n",
        "  output = encoder(image)\n",
        "  output = decoder(output)\n",
        "  \n",
        "#   print(image.shape)\n",
        "  image = image / 2 + 0.5     # unnormalize\n",
        "  output = output / 2 + 0.5     # unnormalize\n",
        "  \n",
        "  input_img = image.cpu().detach().numpy()\n",
        "  output_img = output.cpu().detach().numpy()\n",
        "  \n",
        "\n",
        "#   plt.imshow(np.transpose(output_img[0], (1, 2, 0)))\n",
        "  \n",
        "  \n",
        "  f, axarr = plt.subplots(1, 2)\n",
        "  axarr[0].imshow(np.transpose(input_img[0], (1, 2, 0)))\n",
        "  axarr[1].imshow(np.transpose(output_img[0], (1, 2, 0)))\n",
        "  plt.show()\n",
        "  \n",
        "#   imshow(torchvision.utils.make_grid(input_img))\n",
        "  \n",
        "#   imshow(torchvision.utils.make_grid(output_img))\n",
        "#   input_img = image[0].cpu().detach().numpy()\n",
        "#   output_img = output[0].cpu().detach().numpy()\n",
        "#   img = np.concatenate((input_img, output_img), axis=0)\n",
        "#   show_images(img, cols = 8, titles = None)\n",
        "  \n",
        "  i+=1\n",
        "  if i > number_images_show:\n",
        "    break"
      ],
      "execution_count": 49,
      "outputs": [
        {
          "output_type": "stream",
          "text": [
            "torch.Size([8, 3, 32, 32])\n"
          ],
          "name": "stdout"
        },
        {
          "output_type": "display_data",
          "data": {
            "image/png": "[encoded data removed]",
            "text/plain": [
              "<matplotlib.figure.Figure at 0x7fa054d0a3c8>"
            ]
          },
          "metadata": {
            "tags": []
          }
        }
      ]
    },
    {
      "metadata": {
        "colab_type": "code",
        "colab": {},
        "id": "MEO7_XGF4V2V"
      },
      "cell_type": "code",
      "source": [
        ""
      ],
      "execution_count": 0,
      "outputs": []
    }
  ]
}